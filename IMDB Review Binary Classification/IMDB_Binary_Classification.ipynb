{
  "nbformat": 4,
  "nbformat_minor": 0,
  "metadata": {
    "colab": {
      "name": "IMDB_Binary_Classification.ipynb",
      "provenance": [],
      "collapsed_sections": [],
      "authorship_tag": "ABX9TyNf8MnDllUNKRR3yHwFN1zz",
      "include_colab_link": true
    },
    "kernelspec": {
      "name": "python3",
      "display_name": "Python 3"
    }
  },
  "cells": [
    {
      "cell_type": "markdown",
      "metadata": {
        "id": "view-in-github",
        "colab_type": "text"
      },
      "source": [
        "<a href=\"https://colab.research.google.com/github/sebinefrancis/Deep-Learning-Exercise/blob/IMDB-Movie-Review-Binary-Classification/IMDB%20Review%20Binary%20Classification/IMDB_Binary_Classification.ipynb\" target=\"_parent\"><img src=\"https://colab.research.google.com/assets/colab-badge.svg\" alt=\"Open In Colab\"/></a>"
      ]
    },
    {
      "cell_type": "code",
      "metadata": {
        "id": "JSfHKzIaR7Ow",
        "colab_type": "code",
        "colab": {}
      },
      "source": [
        "from keras.datasets import imdb"
      ],
      "execution_count": 0,
      "outputs": []
    },
    {
      "cell_type": "code",
      "metadata": {
        "id": "x3TgV518aDmW",
        "colab_type": "code",
        "outputId": "b0b552da-2814-448f-804a-3d503ace26a3",
        "colab": {
          "base_uri": "https://localhost:8080/",
          "height": 51
        }
      },
      "source": [
        "(train_data, train_labels), (test_data, test_labels) = imdb.load_data(num_words=10000)"
      ],
      "execution_count": 3,
      "outputs": [
        {
          "output_type": "stream",
          "text": [
            "Downloading data from https://s3.amazonaws.com/text-datasets/imdb.npz\n",
            "17465344/17464789 [==============================] - 1s 0us/step\n"
          ],
          "name": "stdout"
        }
      ]
    },
    {
      "cell_type": "markdown",
      "metadata": {
        "id": "gWfZxqNMawil",
        "colab_type": "text"
      },
      "source": [
        "Because you’re restricting yourself to the top 10,000 most frequent words, no word\n",
        "**index** will exceed 10,000:"
      ]
    },
    {
      "cell_type": "code",
      "metadata": {
        "id": "JJQdp-LSacAL",
        "colab_type": "code",
        "colab": {}
      },
      "source": [
        "train_data[0]"
      ],
      "execution_count": 0,
      "outputs": []
    },
    {
      "cell_type": "code",
      "metadata": {
        "id": "kKlCfrWvaghp",
        "colab_type": "code",
        "colab": {
          "base_uri": "https://localhost:8080/",
          "height": 34
        },
        "outputId": "3aefcd2f-81ae-4568-8c40-1e56a6f1fe32"
      },
      "source": [
        "train_labels[0]"
      ],
      "execution_count": 5,
      "outputs": [
        {
          "output_type": "execute_result",
          "data": {
            "text/plain": [
              "1"
            ]
          },
          "metadata": {
            "tags": []
          },
          "execution_count": 5
        }
      ]
    },
    {
      "cell_type": "code",
      "metadata": {
        "id": "oQbMJcjgakMa",
        "colab_type": "code",
        "outputId": "7abb292f-027d-47f3-d9f1-8ce53bd96fb1",
        "colab": {
          "base_uri": "https://localhost:8080/",
          "height": 34
        }
      },
      "source": [
        "max([max(sequence) for sequence in train_data])"
      ],
      "execution_count": 6,
      "outputs": [
        {
          "output_type": "execute_result",
          "data": {
            "text/plain": [
              "9999"
            ]
          },
          "metadata": {
            "tags": []
          },
          "execution_count": 6
        }
      ]
    },
    {
      "cell_type": "markdown",
      "metadata": {
        "id": "0ntpAobGchqt",
        "colab_type": "text"
      },
      "source": [
        "Because you’re restricting yourself to the top 10,000 most frequent words, no word\n",
        "**index** will exceed 10,000: Here we check for highest number that appear in each review (ie highest index number that appear in each sequence in `train_data`)and then find highest of those highest indices of each review\n"
      ]
    },
    {
      "cell_type": "code",
      "metadata": {
        "id": "3v2-AOhPdAkq",
        "colab_type": "code",
        "outputId": "0da19aa6-e9bb-47b3-99ec-c26278c257bb",
        "colab": {
          "base_uri": "https://localhost:8080/",
          "height": 88
        }
      },
      "source": [
        "word_index = imdb.get_word_index()\n",
        "reverse_word_index = dict([(value, key) for (key, value) in word_index.items()])\n",
        "decoded_review = ' '.join([reverse_word_index.get(i-3 , '?') for i in train_data[0]])\n",
        "print(decoded_review)\n",
        "#print(reverse_word_index.get(0,'?'))\n",
        "#print(reverse_word_index.get(14,'?'))\n",
        "#print(reverse_word_index.get(11,'?'))\n",
        "#train_data[0]"
      ],
      "execution_count": 7,
      "outputs": [
        {
          "output_type": "stream",
          "text": [
            "Downloading data from https://s3.amazonaws.com/text-datasets/imdb_word_index.json\n",
            "1646592/1641221 [==============================] - 0s 0us/step\n",
            "? this film was just brilliant casting location scenery story direction everyone's really suited the part they played and you could just imagine being there robert ? is an amazing actor and now the same being director ? father came from the same scottish island as myself so i loved the fact there was a real connection with this film the witty remarks throughout the film were great it was just brilliant so much that i bought the film as soon as it was released for ? and would recommend it to everyone to watch and the fly fishing was amazing really cried at the end it was so sad and you know what they say if you cry at a film it must have been good and this definitely was also ? to the two little boy's that played the ? of norman and paul they were just brilliant children are often left out of the ? list i think because the stars that play them all grown up are such a big profile for the whole film but these children are amazing and should be praised for what they have done don't you think the whole story was so lovely because it was true and was someone's life after all that was shared with us all\n"
          ],
          "name": "stdout"
        }
      ]
    },
    {
      "cell_type": "markdown",
      "metadata": {
        "id": "RYpJbzItk_Vi",
        "colab_type": "text"
      },
      "source": [
        "The integers represnting indices of words in review are offset by 3 from that of dictionary. Because in review it is considered that 0 = \"PADDING\" 1=\"START\" and 2=\"UNKNOWN\". If there is 14 in review, it means 14-3 = 11 is the correct word in dictionary. so 14 in review represents 11 in dictionary. 3 in review repsents 0 in dictionary. 4=1, 5=2 AND SO ON. If i = 2 (means \"UNKNOWN\" in review), 2-3=-1, which is not a valid index for dictionary and our code will place '?' there. So for 0,1,2 in reviw we get a '?'\n",
        "\n",
        "[Explanation](https://stackoverflow.com/questions/42821330/restore-original-text-from-keras-s-imdb-dataset/44891281)"
      ]
    },
    {
      "cell_type": "code",
      "metadata": {
        "id": "oZq6yt-knHIy",
        "colab_type": "code",
        "colab": {}
      },
      "source": [
        "import numpy as np\n",
        "# results = np.zeros((2, 5))\n",
        "# results[1, [1,3]] = 1.\n",
        "# print(results)\n",
        "# results = np.zeros((2, 5))\n",
        "# results[1, [1,1]] = 1. # [1,1] is similar to same word repeated 2 times in review\n",
        "# print(results)\n",
        "\n",
        "def vectorize_sequences(sequences, dimension=10000):\n",
        "  results = np.zeros((len(sequences), dimension)) #creates all zero matrix, \n",
        "  #with dimensions = 10000 in one axis and equal to number of reviews in other axis\n",
        "  for i, sequence in enumerate(sequences): #iterate each reviews and corresponding result axis\n",
        "    results[i, sequence] = 1. #set for each result (i th result), the values in indices\n",
        "    #corresponding to the sequence(review) value, to 1. So if first review has first value 3,\n",
        "    # then 3rd indice in first result is 1. So basically this result indicate whether that review\n",
        "    #contains the word or not (atleast once). Uncomment the code to see it.\n",
        "    #Sets specific indices of results[i] to 1s\n",
        "  return results\n",
        "\n",
        "x_train = vectorize_sequences(train_data)\n",
        "x_test = vectorize_sequences(test_data)\n",
        "x_train[0]\n",
        "\n",
        "#Now vectorize our labels as well. Just changing data type, and convert to tensor\n",
        "# our labels are already 0 and 1s.\n",
        "y_train = np.asarray(train_labels).astype('float32')\n",
        "y_test = np.asarray(test_labels).astype('float32')\n"
      ],
      "execution_count": 0,
      "outputs": []
    },
    {
      "cell_type": "markdown",
      "metadata": {
        "id": "myoAn_lJwl_C",
        "colab_type": "text"
      },
      "source": [
        "The data needs to be modified as numpy tensors. \n",
        "You can’t feed lists of integers into a neural network. You have to turn your lists into\n",
        "tensors. There are two ways to do that:\n",
        "\n",
        "*   Pad your lists so that they all have the same length, turn them into an integer\n",
        "tensor of shape (samples, word_indices), and then use as the first layer in\n",
        "your network a layer capable of handling such integer tensors (the Embedding\n",
        "layer).\n",
        "*   One-hot encode your lists to turn them into vectors of 0s and 1s. This would\n",
        "mean, for instance, turning the sequence [3, 5] into a 10,000-dimensional vector\n",
        "that would be all 0s except for indices 3 and 5, which would be 1s. Then you\n",
        "could use as the first layer in your network a Dense layer, capable of handling\n",
        "floating-point vector data.\n",
        "\n",
        "Let’s go with the latter solution to vectorize the data, which you’ll do manually for\n",
        "maximum clarity.\n",
        "Now the data is ready to fed into network. \n"
      ]
    },
    {
      "cell_type": "code",
      "metadata": {
        "id": "9u0C3IKrtBfd",
        "colab_type": "code",
        "colab": {}
      },
      "source": [
        "from keras import models\n",
        "from keras import layers\n",
        "model = models.Sequential()\n",
        "model.add(layers.Dense(16, activation='relu', input_shape=(10000,)))\n",
        "model.add(layers.Dense(16, activation='relu'))\n",
        "model.add(layers.Dense(1, activation='sigmoid'))"
      ],
      "execution_count": 0,
      "outputs": []
    },
    {
      "cell_type": "markdown",
      "metadata": {
        "id": "q7JfoW563Wr5",
        "colab_type": "text"
      },
      "source": [
        "The 16 in `layers.Dense(16, activation='relu')` is the number of hidden units. We know in a Dense (fully connected) Layer with relu activation, the following tensor operations happens `output = relu(dot(W,input)+b)`. Having 16 hidden units means weight matrix W have shape `(input_dimension,16)`. The dot product with W project the input data into 16 dimesnional representation space (and then adds bias vector and apply relu). \n",
        "Having more hidden units (higher dimensional represenntation space) means network can learn more complex representations but it will become computationalm expensive and network will learn unwanted pattersns (patterns that improve performance on training data but not on test data).\n",
        "\n",
        "There are two key architecture decisions to be made about such a stack of Dense layers:\n",
        "\n",
        "1.   How many layers to use\n",
        "2.   How many hidden units to choose for each layer\n",
        "\n",
        "We’ll learn formal principles to guide you in making these choices. For\n",
        "the time being, we use following architecture choice:\n",
        "\n",
        "*   Two intermediate layers with 16 hidden units each\n",
        "*   A third layer that will output the scalar prediction regarding the sentiment of\n",
        "the current review\n",
        "\n",
        "The intermediate layers will use relu as their activation function, and the final layer\n",
        "will use a sigmoid activation so as to output a probability (a score between 0 and 1, indicating how likely the sample is to have the target “1”: how likely the review is to be\n",
        "positive). \n",
        " \n",
        "\n",
        "*   A relu (rectified linear unit) is a function meant to zero out negative values\n",
        "*   a sigmoid “squashes” arbitrary values into the `[0, 1]` interval outputting something that can be interpreted as a probability."
      ]
    },
    {
      "cell_type": "markdown",
      "metadata": {
        "id": "V_HcW6G7-_sd",
        "colab_type": "text"
      },
      "source": [
        "**Choosing Loss Function and optimizer**\n",
        "\n",
        "In our case output of network is probability. cross_entropy loss is best for probability outputs. Here we deal with binary classification, so choose binary_crossentropy. \n",
        "\n",
        "---\n",
        "Here’s the step where you configure the model with the rmsprop optimizer and\n",
        "the binary_crossentropy loss function. Note that you’ll also monitor accuracy\n",
        "during training.\n",
        "\n",
        "---\n",
        "You’re passing your optimizer, loss function, and metrics as strings, which is possible\n",
        "because rmsprop, binary_crossentropy, and accuracy are packaged as part of Keras.\n",
        "\n"
      ]
    },
    {
      "cell_type": "code",
      "metadata": {
        "id": "TOxJkZzHAARB",
        "colab_type": "code",
        "colab": {}
      },
      "source": [
        "model.compile(optimizer='rmsprop',\n",
        "loss='binary_crossentropy',\n",
        "metrics=['accuracy'])"
      ],
      "execution_count": 0,
      "outputs": []
    },
    {
      "cell_type": "markdown",
      "metadata": {
        "id": "qMlirt1nAJq2",
        "colab_type": "text"
      },
      "source": [
        "Sometimes you may want to configure the parameters of your optimizer. This can be done by passing an `optimizer` class instance as the `optimizer` argument as shown below"
      ]
    },
    {
      "cell_type": "code",
      "metadata": {
        "id": "WnjDVdF4AaJA",
        "colab_type": "code",
        "colab": {}
      },
      "source": [
        "from keras import optimizers\n",
        "model.compile(optimizer=optimizers.RMSprop(lr=0.001),\n",
        "loss='binary_crossentropy',\n",
        "metrics=['accuracy'])"
      ],
      "execution_count": 0,
      "outputs": []
    },
    {
      "cell_type": "markdown",
      "metadata": {
        "id": "tz-xH4W5AdQb",
        "colab_type": "text"
      },
      "source": [
        "A custom loss function or metric function can be\n",
        "done by passing function objects as the loss and/or metrics arguments as shown below"
      ]
    },
    {
      "cell_type": "code",
      "metadata": {
        "id": "UOJo2pfXAuqN",
        "colab_type": "code",
        "colab": {}
      },
      "source": [
        "from keras import losses\n",
        "from keras import metrics\n",
        "model.compile(optimizer=optimizers.RMSprop(lr=0.001),\n",
        "loss=losses.binary_crossentropy,\n",
        "metrics=[metrics.binary_accuracy])"
      ],
      "execution_count": 0,
      "outputs": []
    },
    {
      "cell_type": "markdown",
      "metadata": {
        "id": "V8HYvNIIEmpm",
        "colab_type": "text"
      },
      "source": [
        "**Validating your approach**\n",
        "\n",
        "In order to monitor during training, the accuracy of the model on data it has never\n",
        "seen before, you’ll create a validation set by setting apart 10,000 samples from the\n",
        "original training data."
      ]
    },
    {
      "cell_type": "code",
      "metadata": {
        "id": "9kqn2HuzFF5t",
        "colab_type": "code",
        "outputId": "9775ec19-8be7-436d-b4f7-c767468afa88",
        "colab": {
          "base_uri": "https://localhost:8080/",
          "height": 34
        }
      },
      "source": [
        "x_val = x_train[:10000] #shape of x_train (25000,10000) here x_train[:10000] means split on first axis (ie \n",
        "#axis with 25000 as dimension) from 0-10000. The second axis of x_train (axis with 10000 as dimension) is \n",
        "#unaffected\n",
        "partial_x_train = x_train[10000:] # splits the remaining from 10000 till end (25000).\n",
        "#x_train[10:100,400:500] will split on both axis 0 and axis 1\n",
        "y_val = y_train[:10000]\n",
        "partial_y_train = y_train[10000:]\n",
        "partial_x_train.shape"
      ],
      "execution_count": 13,
      "outputs": [
        {
          "output_type": "execute_result",
          "data": {
            "text/plain": [
              "(15000, 10000)"
            ]
          },
          "metadata": {
            "tags": []
          },
          "execution_count": 13
        }
      ]
    },
    {
      "cell_type": "markdown",
      "metadata": {
        "id": "54FZPZh-NQeB",
        "colab_type": "text"
      },
      "source": [
        "**Training your model**\n",
        "\n",
        "You’ll now train the model for 20 epochs (20 iterations over all samples in the\n",
        "`x_train` and `y_train` tensors), in mini-batches of 512 samples. At the same time,\n",
        "you’ll monitor loss and accuracy on the 10,000 samples that you set apart. You do so by\n",
        "passing the validation data as the `validation_data` argument."
      ]
    },
    {
      "cell_type": "code",
      "metadata": {
        "id": "CWEGqy9cNWa7",
        "colab_type": "code",
        "colab": {}
      },
      "source": [
        "model.compile(optimizer='rmsprop',\n",
        "              loss='binary_crossentropy',\n",
        "              metrics=['acc'])\n",
        "history = model.fit(partial_x_train,\n",
        "                    partial_y_train,\n",
        "                    epochs=20,\n",
        "                    batch_size=512,\n",
        "                    validation_data=(x_val, y_val))"
      ],
      "execution_count": 0,
      "outputs": []
    },
    {
      "cell_type": "markdown",
      "metadata": {
        "id": "umB0hQBzNd7v",
        "colab_type": "text"
      },
      "source": [
        "Note that the call to model.fit() returns a History object. This object has a member\n",
        "history, which is a dictionary containing data about everything that happened\n",
        "during training. Let’s look at it:"
      ]
    },
    {
      "cell_type": "code",
      "metadata": {
        "id": "mT8Ip-CLN7JG",
        "colab_type": "code",
        "outputId": "0a9ecc6f-94f2-43e1-95e8-d5e222fa8086",
        "colab": {
          "base_uri": "https://localhost:8080/",
          "height": 34
        }
      },
      "source": [
        "history_dict = history.history\n",
        "history_dict.keys()"
      ],
      "execution_count": 15,
      "outputs": [
        {
          "output_type": "execute_result",
          "data": {
            "text/plain": [
              "dict_keys(['val_loss', 'val_acc', 'loss', 'acc'])"
            ]
          },
          "metadata": {
            "tags": []
          },
          "execution_count": 15
        }
      ]
    },
    {
      "cell_type": "markdown",
      "metadata": {
        "id": "bU1bMmTPN_uL",
        "colab_type": "text"
      },
      "source": [
        "**Visualize metrics of training and validation**\n",
        "\n",
        "The dictionary contains four entries: one per metric that was being monitored during\n",
        "training and during validation. In the following two listing, let’s use Matplotlib to plot\n",
        "the training and validation loss side by side (see figure 3.7), as well as the training and\n",
        "validation accuracy (see figure 3.8). Note that your own results may vary slightly due to\n",
        "a different random initialization of your network."
      ]
    },
    {
      "cell_type": "code",
      "metadata": {
        "id": "xg3bznmaOChk",
        "colab_type": "code",
        "outputId": "dbf8034d-54d3-4cb5-8dbf-19369b5a16f3",
        "colab": {
          "base_uri": "https://localhost:8080/",
          "height": 295
        }
      },
      "source": [
        "# Training and validation loss\n",
        "\n",
        "import matplotlib.pyplot as plt\n",
        "history_dict = history.history\n",
        "loss_values = history_dict['loss']\n",
        "val_loss_values = history_dict['val_loss']\n",
        "epochs = range(1, len(loss_values) + 1)\n",
        "plt.plot(epochs, loss_values, 'bo', label='Training loss') #(x_axis,y_axis,style,label)\n",
        "plt.plot(epochs, val_loss_values, 'b', label='Validation loss')\n",
        "plt.title('Training and validation loss')\n",
        "plt.xlabel('Epochs')\n",
        "plt.ylabel('Loss')\n",
        "plt.legend()\n",
        "plt.show()"
      ],
      "execution_count": 16,
      "outputs": [
        {
          "output_type": "display_data",
          "data": {
            "image/png": "[encoded data removed]",
            "text/plain": [
              "<Figure size 432x288 with 1 Axes>"
            ]
          },
          "metadata": {
            "tags": [],
            "needs_background": "light"
          }
        }
      ]
    },
    {
      "cell_type": "code",
      "metadata": {
        "id": "MJmLuik-SAvv",
        "colab_type": "code",
        "outputId": "ffb092d2-35bd-4371-ee2e-f96710a5d2b5",
        "colab": {
          "base_uri": "https://localhost:8080/",
          "height": 295
        }
      },
      "source": [
        "#Training and validation accuracy\n",
        "\n",
        "plt.clf() #clears the plot\n",
        "acc_values = history_dict['acc']\n",
        "val_acc_values = history_dict['val_acc']\n",
        "plt.plot(epochs, acc_values, 'bo', label='Training acc')\n",
        "plt.plot(epochs, val_acc_values, 'b', label='Validation acc')\n",
        "plt.title('Training and validation accuracy')\n",
        "plt.xlabel('Epochs')\n",
        "plt.ylabel('Accuracy')\n",
        "plt.legend()\n",
        "plt.show()"
      ],
      "execution_count": 17,
      "outputs": [
        {
          "output_type": "display_data",
          "data": {
            "image/png": "[encoded data removed]",
            "text/plain": [
              "<Figure size 432x288 with 1 Axes>"
            ]
          },
          "metadata": {
            "tags": [],
            "needs_background": "light"
          }
        }
      ]
    },
    {
      "cell_type": "markdown",
      "metadata": {
        "id": "6mAJgBHJSX80",
        "colab_type": "text"
      },
      "source": [
        "As you can see, the training loss decreases with every epoch, and the training accuracy\n",
        "increases with every epoch. That’s what you would expect when running gradientdescent\n",
        "optimization—the quantity you’re trying to minimize should be less with\n",
        "every iteration. But that isn’t the case for the validation loss and accuracy: they seem to\n",
        "peak at the fourth epoch. This is an example of what we warned against earlier: a\n",
        "model that performs better on the training data isn’t necessarily a model that will do\n",
        "better on data it has never seen before. In precise terms, what you’re seeing is **overfitting**:\n",
        "after the second epoch, you’re overoptimizing on the training data, and you end\n",
        "up learning representations that are specific to the training data and don’t generalize\n",
        "to data outside of the training set.\n",
        "\n",
        "In this case, to prevent overfitting, you could stop training after three epochs. In\n",
        "general, you can use a range of techniques to mitigate overfitting, which we’ll cover in\n",
        "chapter 4.\n",
        "\n",
        "Let’s train a new network from scratch for four epochs and then evaluate it on the\n",
        "test data."
      ]
    },
    {
      "cell_type": "code",
      "metadata": {
        "id": "RbQVmjTDUzNb",
        "colab_type": "code",
        "outputId": "2d5f2a28-4f87-4121-91dc-798e78d3c8e5",
        "colab": {
          "base_uri": "https://localhost:8080/",
          "height": 187
        }
      },
      "source": [
        "model = models.Sequential()\n",
        "model.add(layers.Dense(16, activation='relu', input_shape=(10000,)))\n",
        "model.add(layers.Dense(16, activation='relu'))\n",
        "model.add(layers.Dense(1, activation='sigmoid'))\n",
        "model.compile(optimizer='rmsprop',\n",
        "              loss='binary_crossentropy',\n",
        "              metrics=['accuracy'])\n",
        "model.fit(x_train, y_train, epochs=4, batch_size=512)\n",
        "results = model.evaluate(x_test, y_test)\n",
        "results"
      ],
      "execution_count": 18,
      "outputs": [
        {
          "output_type": "stream",
          "text": [
            "Epoch 1/4\n",
            "25000/25000 [==============================] - 2s 71us/step - loss: 0.4620 - accuracy: 0.8298\n",
            "Epoch 2/4\n",
            "25000/25000 [==============================] - 2s 69us/step - loss: 0.2758 - accuracy: 0.9053\n",
            "Epoch 3/4\n",
            "25000/25000 [==============================] - 2s 69us/step - loss: 0.2114 - accuracy: 0.9257\n",
            "Epoch 4/4\n",
            "25000/25000 [==============================] - 2s 69us/step - loss: 0.1778 - accuracy: 0.9365\n",
            "25000/25000 [==============================] - 2s 64us/step\n"
          ],
          "name": "stdout"
        },
        {
          "output_type": "execute_result",
          "data": {
            "text/plain": [
              "[0.28457406826972964, 0.8865200281143188]"
            ]
          },
          "metadata": {
            "tags": []
          },
          "execution_count": 18
        }
      ]
    },
    {
      "cell_type": "markdown",
      "metadata": {
        "id": "3JTv6KwlYfyD",
        "colab_type": "text"
      },
      "source": [
        "After having trained a network, you’ll want to use it in a practical setting. You can generate\n",
        "the likelihood of reviews being positive by using the predict method:"
      ]
    },
    {
      "cell_type": "code",
      "metadata": {
        "id": "MirafPK3Yg4J",
        "colab_type": "code",
        "colab": {
          "base_uri": "https://localhost:8080/",
          "height": 136
        },
        "outputId": "5a6dc18a-82f3-4ff5-fb7e-4a600160abcc"
      },
      "source": [
        "model.predict(x_test)"
      ],
      "execution_count": 19,
      "outputs": [
        {
          "output_type": "execute_result",
          "data": {
            "text/plain": [
              "array([[0.2644807 ],\n",
              "       [0.99965775],\n",
              "       [0.90152365],\n",
              "       ...,\n",
              "       [0.14075729],\n",
              "       [0.09430352],\n",
              "       [0.624134  ]], dtype=float32)"
            ]
          },
          "metadata": {
            "tags": []
          },
          "execution_count": 19
        }
      ]
    },
    {
      "cell_type": "markdown",
      "metadata": {
        "id": "2PQThLj1YqGL",
        "colab_type": "text"
      },
      "source": [
        "As you can see, the network is confident for some samples (0.99 or more, or 0.01 or\n",
        "less) but less confident for others (0.6, 0.4)."
      ]
    },
    {
      "cell_type": "markdown",
      "metadata": {
        "id": "PcujXZ6F5t-1",
        "colab_type": "text"
      },
      "source": [
        "**Methods to reduce Overfitting and determine size of network**\n",
        "\n",
        "From chapter 4,\n",
        "**1. Reducing networks size**"
      ]
    },
    {
      "cell_type": "code",
      "metadata": {
        "id": "tlU0iYlc5-Zw",
        "colab_type": "code",
        "colab": {}
      },
      "source": [
        "#Low capacity model small network\n",
        "model = models.Sequential()\n",
        "model.add(layers.Dense(4, activation='relu', input_shape=(10000,)))\n",
        "model.add(layers.Dense(4, activation='relu'))\n",
        "model.add(layers.Dense(1, activation='sigmoid'))\n",
        "model.compile(optimizer='rmsprop',\n",
        "              loss='binary_crossentropy',\n",
        "              metrics=['acc'])\n",
        "history_small = model.fit(partial_x_train,\n",
        "                    partial_y_train,\n",
        "                    epochs=20,\n",
        "                    batch_size=512,\n",
        "                    validation_data=(x_val, y_val))"
      ],
      "execution_count": 0,
      "outputs": []
    },
    {
      "cell_type": "code",
      "metadata": {
        "id": "HYFAQcCE6Geq",
        "colab_type": "code",
        "colab": {
          "base_uri": "https://localhost:8080/",
          "height": 295
        },
        "outputId": "daad05ba-bd23-47b7-8163-99fe9e952c44"
      },
      "source": [
        "history_dict_small = history_small.history\n",
        "val_loss_values_small = history_dict_small['val_loss']\n",
        "epochs = range(1, len(loss_values) + 1)\n",
        "plt.plot(epochs, val_loss_values, '+', label='Validation loss 16') #val_loss_values = validation loss of original 16 units model, we have it already\n",
        "plt.plot(epochs, val_loss_values_small, 'bo', label='Validation loss 4') #val_loss_values = validation loss of small 4 units model, we have it already\n",
        "plt.title('Validation loss of different size Network')\n",
        "plt.xlabel('Epochs')\n",
        "plt.ylabel('Validation Loss')\n",
        "plt.legend()\n",
        "plt.show()"
      ],
      "execution_count": 21,
      "outputs": [
        {
          "output_type": "display_data",
          "data": {
            "image/png": "[encoded data removed]",
            "text/plain": [
              "<Figure size 432x288 with 1 Axes>"
            ]
          },
          "metadata": {
            "tags": [],
            "needs_background": "light"
          }
        }
      ]
    },
    {
      "cell_type": "code",
      "metadata": {
        "id": "z6APeIZW8PeE",
        "colab_type": "code",
        "colab": {}
      },
      "source": [
        "#High capacity model small network\n",
        "model = models.Sequential()\n",
        "model.add(layers.Dense(512, activation='relu', input_shape=(10000,)))\n",
        "model.add(layers.Dense(512, activation='relu'))\n",
        "model.add(layers.Dense(1, activation='sigmoid'))\n",
        "model.compile(optimizer='rmsprop',\n",
        "              loss='binary_crossentropy',\n",
        "              metrics=['acc'])\n",
        "history_large = model.fit(partial_x_train,\n",
        "                    partial_y_train,\n",
        "                    epochs=20,\n",
        "                    batch_size=512,\n",
        "                    validation_data=(x_val, y_val))"
      ],
      "execution_count": 0,
      "outputs": []
    },
    {
      "cell_type": "code",
      "metadata": {
        "id": "CV8mFaTj8UhH",
        "colab_type": "code",
        "colab": {
          "base_uri": "https://localhost:8080/",
          "height": 295
        },
        "outputId": "e9b9228d-0abf-4ab8-bdf8-65cd4f12d654"
      },
      "source": [
        "history_dict_large = history_large.history\n",
        "val_loss_values_large = history_dict_large['val_loss']\n",
        "epochs = range(1, len(loss_values) + 1)\n",
        "plt.plot(epochs, val_loss_values, '+', label='Validation loss 16') #val_loss_values = validation loss of original 16 units model, we have it already\n",
        "plt.plot(epochs, val_loss_values_large, 'bo', label='Validation loss 512') #val_loss_values = validation loss of big 512 units model, we have it already\n",
        "plt.title('Validation loss of different size Network')\n",
        "plt.xlabel('Epochs')\n",
        "plt.ylabel('Validation Loss')\n",
        "plt.legend()\n",
        "plt.show()"
      ],
      "execution_count": 23,
      "outputs": [
        {
          "output_type": "display_data",
          "data": {
            "image/png": "[encoded data removed]",
            "text/plain": [
              "<Figure size 432x288 with 1 Axes>"
            ]
          },
          "metadata": {
            "tags": [],
            "needs_background": "light"
          }
        }
      ]
    },
    {
      "cell_type": "code",
      "metadata": {
        "id": "rZsD7YQT_FSS",
        "colab_type": "code",
        "colab": {
          "base_uri": "https://localhost:8080/",
          "height": 295
        },
        "outputId": "fa9141ce-3162-460b-fb14-0190857fc10b"
      },
      "source": [
        "#Training loss comparison 16 and 512 size\n",
        "history_dict_large = history_large.history\n",
        "loss_values_large = history_dict_large['loss'] #training loss 512\n",
        "epochs = range(1, len(loss_values) + 1)\n",
        "plt.plot(epochs, loss_values, '+', label='Training loss 16') #loss_values = training loss of original 16 units model, we have it already\n",
        "plt.plot(epochs, loss_values_large, 'bo', label='Training loss 512') #loss_values_large = training loss of big 512 units model, we have it already\n",
        "plt.title('Training loss of different size Network')\n",
        "plt.xlabel('Epochs')\n",
        "plt.ylabel('Training Loss')\n",
        "plt.legend()\n",
        "plt.show()"
      ],
      "execution_count": 24,
      "outputs": [
        {
          "output_type": "display_data",
          "data": {
            "image/png": "[encoded data removed]",
            "text/plain": [
              "<Figure size 432x288 with 1 Axes>"
            ]
          },
          "metadata": {
            "tags": [],
            "needs_background": "light"
          }
        }
      ]
    }
  ]
}