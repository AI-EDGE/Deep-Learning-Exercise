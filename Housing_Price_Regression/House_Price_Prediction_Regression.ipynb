{
  "nbformat": 4,
  "nbformat_minor": 0,
  "metadata": {
    "colab": {
      "name": "House_Price_Prediction_Regression.ipynb",
      "provenance": [],
      "collapsed_sections": [],
      "authorship_tag": "ABX9TyNPlGomdah8qRDh2nKteew+",
      "include_colab_link": true
    },
    "kernelspec": {
      "name": "python3",
      "display_name": "Python 3"
    },
    "accelerator": "TPU"
  },
  "cells": [
    {
      "cell_type": "markdown",
      "metadata": {
        "id": "view-in-github",
        "colab_type": "text"
      },
      "source": [
        "<a href=\"https://colab.research.google.com/github/sebinefrancis/Deep-Learning-Exercise/blob/Housing_Price_Regression/Housing_Price_Regression/House_Price_Prediction_Regression.ipynb\" target=\"_parent\"><img src=\"https://colab.research.google.com/assets/colab-badge.svg\" alt=\"Open In Colab\"/></a>"
      ]
    },
    {
      "cell_type": "markdown",
      "metadata": {
        "id": "w27-MW6f1Nb8",
        "colab_type": "text"
      },
      "source": [
        "Loading the Boston housing dataset"
      ]
    },
    {
      "cell_type": "code",
      "metadata": {
        "id": "5aC3QZuK_vQ_",
        "colab_type": "code",
        "colab": {
          "base_uri": "https://localhost:8080/",
          "height": 102
        },
        "outputId": "5fab2dba-6214-4ab4-9ae7-fff71a608929"
      },
      "source": [
        "from keras.datasets import boston_housing\n",
        "(train_data, train_targets), (test_data, test_targets) = boston_housing.load_data()\n",
        "print('Shape of training dataset : ',train_data.shape)\n",
        "print('Shape of test dataset : ',test_data.shape)"
      ],
      "execution_count": 2,
      "outputs": [
        {
          "output_type": "stream",
          "text": [
            "Using TensorFlow backend.\n"
          ],
          "name": "stderr"
        },
        {
          "output_type": "stream",
          "text": [
            "Downloading data from https://s3.amazonaws.com/keras-datasets/boston_housing.npz\n",
            "57344/57026 [==============================] - 0s 1us/step\n",
            "Shape of training dataset :  (404, 13)\n",
            "Shape of test dataset :  (102, 13)\n"
          ],
          "name": "stdout"
        }
      ]
    },
    {
      "cell_type": "markdown",
      "metadata": {
        "id": "aejOygh01rw9",
        "colab_type": "text"
      },
      "source": [
        "The targets are the median values of owner-occupied homes, in thousands of\n",
        "dollars"
      ]
    },
    {
      "cell_type": "markdown",
      "metadata": {
        "id": "fNinXz2u1waP",
        "colab_type": "text"
      },
      "source": [
        "**Preparing the data**\n",
        "\n",
        "Normalizing the data\n",
        "\n",
        "feature-wise normalization: for each feature in the input\n",
        "data (a column in the input data matrix), you subtract the mean of the feature and\n",
        "divide by the standard deviation, so that the feature is centered around 0 and has a\n",
        "unit standard deviation."
      ]
    },
    {
      "cell_type": "code",
      "metadata": {
        "id": "wekcUQUA1tOW",
        "colab_type": "code",
        "colab": {}
      },
      "source": [
        "mean = train_data.mean(axis=0)\n",
        "train_data -= mean\n",
        "std = train_data.std(axis=0)\n",
        "train_data /= std\n",
        "test_data -= mean\n",
        "test_data /= std"
      ],
      "execution_count": 0,
      "outputs": []
    },
    {
      "cell_type": "markdown",
      "metadata": {
        "id": "hnUry2h116nX",
        "colab_type": "text"
      },
      "source": [
        "Note that the quantities used for normalizing the test data are computed using the\n",
        "training data. You should never use in your workflow any quantity computed on the\n",
        "test data, even for something as simple as data normalization."
      ]
    },
    {
      "cell_type": "markdown",
      "metadata": {
        "id": "t5Unvvla2F14",
        "colab_type": "text"
      },
      "source": [
        "**Building your network**\n",
        "\n",
        "Because so few samples are available, you’ll use a very small network with two hidden\n",
        "layers, each with 64 units. In general, the less training data you have, the worse overfitting\n",
        "will be, and using a small network is one way to mitigate overfitting."
      ]
    },
    {
      "cell_type": "code",
      "metadata": {
        "id": "hE5-F8xA2Drl",
        "colab_type": "code",
        "colab": {}
      },
      "source": [
        "from keras import models\n",
        "from keras import layers\n",
        "def build_model():\n",
        "    model = models.Sequential()\n",
        "    model.add(layers.Dense(64, activation='relu',\n",
        "    input_shape=(train_data.shape[1],)))\n",
        "    model.add(layers.Dense(64, activation='relu'))\n",
        "    model.add(layers.Dense(1))\n",
        "    model.compile(optimizer='rmsprop', loss='mse', metrics=['mae'])\n",
        "    return model"
      ],
      "execution_count": 0,
      "outputs": []
    },
    {
      "cell_type": "markdown",
      "metadata": {
        "id": "S2EC0oeZ2VJ2",
        "colab_type": "text"
      },
      "source": [
        "**Validating your approach using K-fold validation**\n",
        "\n"
      ]
    },
    {
      "cell_type": "code",
      "metadata": {
        "id": "Vx2M3jbW2bvP",
        "colab_type": "code",
        "colab": {
          "base_uri": "https://localhost:8080/",
          "height": 139
        },
        "outputId": "6a7fa350-67dc-412f-b3ae-999c1bfd9b82"
      },
      "source": [
        "import numpy as np\n",
        "k = 4\n",
        "num_val_samples = len(train_data) // k\n",
        "num_epochs = 100\n",
        "all_scores = []\n",
        "\n",
        "for i in range(k):\n",
        "    print('processing fold #', i)\n",
        "    val_data = train_data[i * num_val_samples: (i + 1) * num_val_samples]\n",
        "    val_targets = train_targets[i * num_val_samples: (i + 1) * num_val_samples]\n",
        "\n",
        "    partial_train_data = np.concatenate(\n",
        "                            [train_data[:i * num_val_samples],\n",
        "                            train_data[(i + 1) * num_val_samples:]],\n",
        "                            axis=0)\n",
        "    partial_train_targets = np.concatenate(\n",
        "                            [train_targets[:i * num_val_samples],\n",
        "                            train_targets[(i + 1) * num_val_samples:]],\n",
        "                            axis=0)\n",
        "    model = build_model()\n",
        "    model.fit(partial_train_data, partial_train_targets,\n",
        "              epochs=num_epochs, batch_size=1, verbose=0)\n",
        "    val_mse, val_mae = model.evaluate(val_data, val_targets, verbose=0)\n",
        "    all_scores.append(val_mae)\n",
        "\n",
        "print('Final epoch mae value in each folds: ',all_scores)\n",
        "print('Mean value of mae among 4 folds: ',np.mean(all_scores))"
      ],
      "execution_count": 5,
      "outputs": [
        {
          "output_type": "stream",
          "text": [
            "processing fold # 0\n",
            "processing fold # 1\n",
            "processing fold # 2\n",
            "processing fold # 3\n",
            "Final epoch mae value in each folds:  [2.2136588096618652, 2.5543034076690674, 2.871403217315674, 2.4132447242736816]\n",
            "Mean value of mae among 4 folds:  2.513152539730072\n"
          ],
          "name": "stdout"
        }
      ]
    },
    {
      "cell_type": "markdown",
      "metadata": {
        "id": "fZim2HDP3vh7",
        "colab_type": "text"
      },
      "source": [
        "The different runs do indeed show rather different validation scores, from 2.6 to 3.2.\n",
        "The average (3.0) is a much more reliable metric than any single score—that’s the\n",
        "entire point of K-fold cross-validation. In this case, you are off by 3,000  on average,\n",
        "which is significant considering that the prices range from $10,000 to 50,000.\n",
        "Let’s try training the network a bit longer: 500 epochs\n",
        "\n",
        "**Saving the validation logs at each fold**\n",
        "\n",
        "Here we calculate the average of mae values of 4 folds at every epochs to plot epochs against avg mae value at each epoch"
      ]
    },
    {
      "cell_type": "code",
      "metadata": {
        "id": "SoY7AEBE4AnW",
        "colab_type": "code",
        "colab": {
          "base_uri": "https://localhost:8080/",
          "height": 85
        },
        "outputId": "144cdd20-a0eb-4477-dc77-25136c509017"
      },
      "source": [
        "num_epochs = 500\n",
        "all_mae_histories = []\n",
        "for i in range(k):\n",
        "    print('processing fold #', i)\n",
        "    val_data = train_data[i * num_val_samples: (i + 1) * num_val_samples]\n",
        "    val_targets = train_targets[i * num_val_samples: (i + 1) * num_val_samples]\n",
        "\n",
        "    partial_train_data = np.concatenate(\n",
        "                        [train_data[:i * num_val_samples],\n",
        "                        train_data[(i + 1) * num_val_samples:]],\n",
        "                        axis=0)\n",
        "    partial_train_targets = np.concatenate(\n",
        "                        [train_targets[:i * num_val_samples],\n",
        "                        train_targets[(i + 1) * num_val_samples:]],\n",
        "                        axis=0)\n",
        "    model = build_model()\n",
        "    history = model.fit(partial_train_data, partial_train_targets,\n",
        "                        validation_data=(val_data, val_targets),\n",
        "                        epochs=num_epochs, batch_size=1, verbose=0)\n",
        "    mae_history = history.history['val_mae']\n",
        "    all_mae_histories.append(mae_history)"
      ],
      "execution_count": 6,
      "outputs": [
        {
          "output_type": "stream",
          "text": [
            "processing fold # 0\n",
            "processing fold # 1\n",
            "processing fold # 2\n",
            "processing fold # 3\n"
          ],
          "name": "stdout"
        }
      ]
    },
    {
      "cell_type": "markdown",
      "metadata": {
        "id": "E5gnwNgo4qGh",
        "colab_type": "text"
      },
      "source": [
        "**Building the history of successive mean K-fold validation scores**"
      ]
    },
    {
      "cell_type": "code",
      "metadata": {
        "id": "hgYzpTCr4rq6",
        "colab_type": "code",
        "colab": {
          "base_uri": "https://localhost:8080/",
          "height": 85
        },
        "outputId": "dde88f10-4a9c-4d91-e461-3336ebfe798a"
      },
      "source": [
        "average_mae_history = [np.mean([x[i] for x in all_mae_histories]) for i in range(num_epochs)] #this outputs a list, not tensor/array prints as comma separated\n",
        "#all_mae_histories contains 4 arrays corresponding to each fold\n",
        "#each of the 4 arrays contains 500 values which are mae corresponding to each epoch\n",
        "#so here we iterate first over number of epochs, so i th epoch\n",
        "#then iterate over each of 4 array in all_mae_histories which are arrays containing 500 vals each\n",
        "# so we take i th epoch value of first fold, second fold, third and fourth and do mean\n",
        "# so we got average mae of ith epoch\n",
        "# similarly we get 500 average mae values, each corresponding to each epoch\n",
        "\n",
        "\n",
        "#Is the following a simple code , but do the same??\n",
        "\n",
        "average_mae_history2 = np.mean(all_mae_histories,axis=0) #this gives a numpy tensor/array, prints as space separated\n",
        "print( np.array(average_mae_history2[:10]))\n",
        "print(np.array(average_mae_history[:10]))"
      ],
      "execution_count": 15,
      "outputs": [
        {
          "output_type": "stream",
          "text": [
            "[4.38443375 3.20155215 2.89642096 2.83466339 2.82249975 2.6906988\n",
            " 2.67871147 2.60277212 2.6011712  2.50517559]\n",
            "[4.38443375 3.20155215 2.89642096 2.83466339 2.82249975 2.6906988\n",
            " 2.67871147 2.60277212 2.6011712  2.50517559]\n"
          ],
          "name": "stdout"
        }
      ]
    },
    {
      "cell_type": "markdown",
      "metadata": {
        "id": "q83vPHj-8Otu",
        "colab_type": "text"
      },
      "source": [
        "**Plotting validation scores**"
      ]
    },
    {
      "cell_type": "code",
      "metadata": {
        "id": "6kM0Hyxs8Lyk",
        "colab_type": "code",
        "colab": {
          "base_uri": "https://localhost:8080/",
          "height": 279
        },
        "outputId": "3fad6dda-aa6b-45a2-bf28-c57887eb9d8f"
      },
      "source": [
        "import matplotlib.pyplot as plt\n",
        "plt.plot(range(1, len(average_mae_history) + 1), average_mae_history,'b')\n",
        "#plt.plot(range(1, len(average_mae_history) + 1), average_mae_history2,'ro')\n",
        "plt.xlabel('Epochs')\n",
        "plt.ylabel('Validation MAE')\n",
        "plt.show()"
      ],
      "execution_count": 26,
      "outputs": [
        {
          "output_type": "display_data",
          "data": {
            "image/png": "[encoded data removed]",
            "text/plain": [
              "<Figure size 432x288 with 1 Axes>"
            ]
          },
          "metadata": {
            "tags": [],
            "needs_background": "light"
          }
        }
      ]
    },
    {
      "cell_type": "markdown",
      "metadata": {
        "id": "cM-wXagD8SCa",
        "colab_type": "text"
      },
      "source": [
        "**Plotting validation scores, excluding the first 10 data points**"
      ]
    },
    {
      "cell_type": "code",
      "metadata": {
        "id": "s05z4a1R8XwB",
        "colab_type": "code",
        "colab": {
          "base_uri": "https://localhost:8080/",
          "height": 282
        },
        "outputId": "0bd324b0-92b4-474b-ba2d-610133087a46"
      },
      "source": [
        "def smooth_curve(points, factor=0.9):\n",
        "    smoothed_points = []\n",
        "    for point in points:\n",
        "        if smoothed_points:\n",
        "            previous = smoothed_points[-1]\n",
        "            smoothed_points.append(previous * factor + point * (1 - factor))\n",
        "        else:\n",
        "            smoothed_points.append(point)\n",
        "    return smoothed_points\n",
        "\n",
        "smooth_mae_history = smooth_curve(average_mae_history[10:])\n",
        "\n",
        "plt.plot(range(1, len(smooth_mae_history) + 1), smooth_mae_history)\n",
        "plt.xlabel('Epochs')\n",
        "plt.ylabel('Validation MAE')\n",
        "plt.show()"
      ],
      "execution_count": 18,
      "outputs": [
        {
          "output_type": "display_data",
          "data": {
            "image/png": "[encoded data removed]",
            "text/plain": [
              "<Figure size 432x288 with 1 Axes>"
            ]
          },
          "metadata": {
            "tags": [],
            "needs_background": "light"
          }
        }
      ]
    },
    {
      "cell_type": "markdown",
      "metadata": {
        "id": "UR6QNDUT8rph",
        "colab_type": "text"
      },
      "source": [
        "**Training the final model**"
      ]
    },
    {
      "cell_type": "code",
      "metadata": {
        "id": "MBsKp_Jw8tK_",
        "colab_type": "code",
        "colab": {
          "base_uri": "https://localhost:8080/",
          "height": 51
        },
        "outputId": "5f2f1e42-ec8f-4ff7-a5a0-1b3e09a4bba9"
      },
      "source": [
        "model = build_model()\n",
        "model.fit(train_data, train_targets,\n",
        "          epochs=80, batch_size=16, verbose=0)\n",
        "test_mse_score, test_mae_score = model.evaluate(test_data, test_targets)\n",
        "print('Final Result : ',test_mae_score)"
      ],
      "execution_count": 38,
      "outputs": [
        {
          "output_type": "stream",
          "text": [
            "102/102 [==============================] - 0s 147us/step\n",
            "Final Result :  2.5932776927948\n"
          ],
          "name": "stdout"
        }
      ]
    }
  ]
}