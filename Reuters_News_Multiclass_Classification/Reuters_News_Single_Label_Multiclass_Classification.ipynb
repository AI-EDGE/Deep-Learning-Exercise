{
  "nbformat": 4,
  "nbformat_minor": 0,
  "metadata": {
    "colab": {
      "name": "Reuters_News_Single_Label_Multiclass_Classification.ipynb",
      "provenance": [],
      "collapsed_sections": [],
      "authorship_tag": "ABX9TyNA5/2FzoeJYQ0xZz4ck7dn",
      "include_colab_link": true
    },
    "kernelspec": {
      "name": "python3",
      "display_name": "Python 3"
    }
  },
  "cells": [
    {
      "cell_type": "markdown",
      "metadata": {
        "id": "view-in-github",
        "colab_type": "text"
      },
      "source": [
        "<a href=\"https://colab.research.google.com/github/sebinefrancis/Deep-Learning-Exercise/blob/Reuters_News_Multiclass_Classification/Reuters_News_Multiclass_Classification/Reuters_News_Single_Label_Multiclass_Classification.ipynb\" target=\"_parent\"><img src=\"https://colab.research.google.com/assets/colab-badge.svg\" alt=\"Open In Colab\"/></a>"
      ]
    },
    {
      "cell_type": "markdown",
      "metadata": {
        "id": "KMHiqBX7ufkx",
        "colab_type": "text"
      },
      "source": [
        "Loading the Reuters dataset"
      ]
    },
    {
      "cell_type": "code",
      "metadata": {
        "id": "LdHjMUI7i78L",
        "colab_type": "code",
        "outputId": "77a47707-199e-49ff-ef6f-ceb590f656a2",
        "colab": {
          "base_uri": "https://localhost:8080/",
          "height": 68
        }
      },
      "source": [
        "from keras.datasets import reuters\n",
        "(train_data, train_labels), (test_data, test_labels) = reuters.load_data(\n",
        "num_words=10000)"
      ],
      "execution_count": 0,
      "outputs": [
        {
          "output_type": "stream",
          "text": [
            "Using TensorFlow backend.\n"
          ],
          "name": "stderr"
        },
        {
          "output_type": "stream",
          "text": [
            "Downloading data from https://s3.amazonaws.com/text-datasets/reuters.npz\n",
            "2113536/2110848 [==============================] - 0s 0us/step\n"
          ],
          "name": "stdout"
        }
      ]
    },
    {
      "cell_type": "code",
      "metadata": {
        "id": "kUn7AMQEttxq",
        "colab_type": "code",
        "colab": {}
      },
      "source": [
        "print('Training data size = ' + str(len(train_data)))\n",
        "print('Test data size = ' + str(len(test_data)))\n",
        "train_data[10]"
      ],
      "execution_count": 0,
      "outputs": []
    },
    {
      "cell_type": "markdown",
      "metadata": {
        "id": "YiX_A9M5uvI2",
        "colab_type": "text"
      },
      "source": [
        "Decoding newswires back to text"
      ]
    },
    {
      "cell_type": "code",
      "metadata": {
        "id": "f_m8oOw1uudu",
        "colab_type": "code",
        "outputId": "9e58770d-5def-420e-dca4-9ed6fa377048",
        "colab": {
          "base_uri": "https://localhost:8080/",
          "height": 54
        }
      },
      "source": [
        "word_index = reuters.get_word_index()\n",
        "reverse_word_index = dict([(value, key) for (key, value) in word_index.items()])\n",
        "decoded_newswire = ' '.join([reverse_word_index.get(i - 3, '?') for i in train_data[0]])\n",
        "#the index of words in news sample is offset by 3 from that of dictionary\n",
        "#because 0,1,2 are reserved in news samples for padding, start, unknown\n",
        "#so index 3 in news sample means 0 in dictionary, 4=1 and so on\n",
        "decoded_newswire"
      ],
      "execution_count": 0,
      "outputs": [
        {
          "output_type": "execute_result",
          "data": {
            "text/plain": [
              "'? ? ? said as a result of its december acquisition of space co it expects earnings per share in 1987 of 1 15 to 1 30 dlrs per share up from 70 cts in 1986 the company said pretax net should rise to nine to 10 mln dlrs from six mln dlrs in 1986 and rental operation revenues to 19 to 22 mln dlrs from 12 5 mln dlrs it said cash flow per share this year should be 2 50 to three dlrs reuter 3'"
            ]
          },
          "metadata": {
            "tags": []
          },
          "execution_count": 15
        }
      ]
    },
    {
      "cell_type": "markdown",
      "metadata": {
        "id": "3PMLqoeBukoQ",
        "colab_type": "text"
      },
      "source": [
        "Encoding the data : Vectorize samples"
      ]
    },
    {
      "cell_type": "code",
      "metadata": {
        "id": "BZGGKtcCvhTy",
        "colab_type": "code",
        "colab": {}
      },
      "source": [
        "import numpy as np\n",
        "def vectorize_sequences(sequences, dimension=10000):\n",
        "    results = np.zeros((len(sequences), dimension))\n",
        "    for i, sequence in enumerate(sequences):\n",
        "        results[i, sequence] = 1.\n",
        "    return results\n",
        "x_train = vectorize_sequences(train_data)\n",
        "x_test = vectorize_sequences(test_data)"
      ],
      "execution_count": 0,
      "outputs": []
    },
    {
      "cell_type": "markdown",
      "metadata": {
        "id": "jUSfqh3DvzY4",
        "colab_type": "text"
      },
      "source": [
        "Vectorize the labels : Here using one-hot encoding(Categorical encoding)"
      ]
    },
    {
      "cell_type": "code",
      "metadata": {
        "id": "X1xTaEmzv8m4",
        "colab_type": "code",
        "colab": {}
      },
      "source": [
        "#naive approach\n",
        "# def to_one_hot(labels, dimension=46):\n",
        "#     results = np.zeros((len(labels), dimension))\n",
        "#     for i, label in enumerate(labels):\n",
        "#         results[i, label] = 1.\n",
        "#     return results\n",
        "# one_hot_train_labels = to_one_hot(train_labels)\n",
        "# one_hot_test_labels = to_one_hot(test_labels)\n",
        "\n",
        "#built-in way to do this in Keras\n",
        "from keras.utils.np_utils import to_categorical\n",
        "one_hot_train_labels = to_categorical(train_labels)\n",
        "one_hot_test_labels = to_categorical(test_labels)"
      ],
      "execution_count": 0,
      "outputs": []
    },
    {
      "cell_type": "markdown",
      "metadata": {
        "id": "mnElE2_gwRw3",
        "colab_type": "text"
      },
      "source": [
        "**Building your network**\n",
        "\n",
        "This topic-classification problem looks similar to the previous movie-review classification\n",
        "problem: in both cases, you’re trying to classify short snippets of text. But there is\n",
        "a new constraint here: the number of output classes has gone from 2 to 46. The\n",
        "dimensionality of the output space is much larger.\n",
        "\n",
        "In a stack of Dense layers like that you’ve been using, each layer can only access information\n",
        "present in the output of the previous layer. If one layer drops some information\n",
        "Listing 3.14 Encoding the data\n",
        "Vectorized training data\n",
        "Vectorized test data\n",
        "Vectorized training labels\n",
        "Vectorized test labels relevant to the classification problem, this information can never be recovered by later layers: each layer can potentially become an information bottleneck. In the previous\n",
        "example, you used 16-dimensional intermediate layers, but a 16-dimensional space may\n",
        "be too limited to learn to separate 46 different classes: such small layers may act as information\n",
        "bottlenecks, permanently dropping relevant information.\n",
        "\n",
        "For this reason you’ll use larger layers. Let’s go with 64 units."
      ]
    },
    {
      "cell_type": "code",
      "metadata": {
        "id": "cYnRzJ74wpq1",
        "colab_type": "code",
        "colab": {}
      },
      "source": [
        "from keras import models\n",
        "from keras import layers\n",
        "model = models.Sequential()\n",
        "model.add(layers.Dense(64, activation='relu', input_shape=(10000,)))\n",
        "model.add(layers.Dense(64, activation='relu'))\n",
        "model.add(layers.Dense(46, activation='softmax'))"
      ],
      "execution_count": 0,
      "outputs": []
    },
    {
      "cell_type": "markdown",
      "metadata": {
        "id": "fR8gau02wwym",
        "colab_type": "text"
      },
      "source": [
        "There are two other things you should note about this architecture:\n",
        "\n",
        "\n",
        "\n",
        "*   You end the network with a Dense layer of size 46. This means for each input\n",
        "sample, the network will output a 46-dimensional vector. Each entry in this vector\n",
        "(each dimension) will encode a different output class.\n",
        "*   The last layer uses a softmax activation. You saw this pattern in the MNIST\n",
        "example. It means the network will output a probability distribution over the 46\n",
        "different output classes—for every input sample, the network will produce a 46-\n",
        "dimensional output vector, where output[i] is the probability that the sample\n",
        "belongs to class i. The 46 scores will sum to 1.\n",
        "\n",
        "The best loss function to use in this case is categorical_crossentropy. It measures\n",
        "the distance between two probability distributions: here, between the probability distribution\n",
        "output by the network and the true distribution of the labels. By minimizing\n",
        "the distance between these two distributions, you train the network to output something\n",
        "as close as possible to the true labels.\n",
        "\n"
      ]
    },
    {
      "cell_type": "code",
      "metadata": {
        "id": "LkeyoCh-w-xi",
        "colab_type": "code",
        "colab": {}
      },
      "source": [
        "model.compile(optimizer='rmsprop',\n",
        "loss='categorical_crossentropy',\n",
        "metrics=['accuracy'])"
      ],
      "execution_count": 0,
      "outputs": []
    },
    {
      "cell_type": "markdown",
      "metadata": {
        "id": "nUmCIOTPxBNo",
        "colab_type": "text"
      },
      "source": [
        "**Validating your approach**\n",
        "\n",
        "Let’s set apart 1,000 samples in the training data to use as a validation set."
      ]
    },
    {
      "cell_type": "code",
      "metadata": {
        "id": "dUkRPP5NxGnZ",
        "colab_type": "code",
        "colab": {}
      },
      "source": [
        "x_val = x_train[:1000]\n",
        "partial_x_train = x_train[1000:]\n",
        "y_val = one_hot_train_labels[:1000]\n",
        "partial_y_train = one_hot_train_labels[1000:]"
      ],
      "execution_count": 0,
      "outputs": []
    },
    {
      "cell_type": "markdown",
      "metadata": {
        "id": "ejhOAfGqxLJ_",
        "colab_type": "text"
      },
      "source": [
        "Now, let’s train the network for 20 epochs."
      ]
    },
    {
      "cell_type": "code",
      "metadata": {
        "id": "iIoMehlIxL5v",
        "colab_type": "code",
        "outputId": "70a7c682-3111-4aec-b305-bd023a5b80a6",
        "colab": {
          "base_uri": "https://localhost:8080/",
          "height": 714
        }
      },
      "source": [
        "history = model.fit(partial_x_train,\n",
        "                    partial_y_train,\n",
        "                    epochs=20,\n",
        "                    batch_size=512,\n",
        "                    validation_data=(x_val, y_val))"
      ],
      "execution_count": 0,
      "outputs": [
        {
          "output_type": "stream",
          "text": [
            "Train on 7982 samples, validate on 1000 samples\n",
            "Epoch 1/20\n",
            "7982/7982 [==============================] - 1s 158us/step - loss: 2.5739 - accuracy: 0.5117 - val_loss: 1.6914 - val_accuracy: 0.6400\n",
            "Epoch 2/20\n",
            "7982/7982 [==============================] - 1s 121us/step - loss: 1.4018 - accuracy: 0.7027 - val_loss: 1.2932 - val_accuracy: 0.7240\n",
            "Epoch 3/20\n",
            "7982/7982 [==============================] - 1s 122us/step - loss: 1.0463 - accuracy: 0.7765 - val_loss: 1.1267 - val_accuracy: 0.7600\n",
            "Epoch 4/20\n",
            "7982/7982 [==============================] - 1s 122us/step - loss: 0.8230 - accuracy: 0.8255 - val_loss: 1.0362 - val_accuracy: 0.7820\n",
            "Epoch 5/20\n",
            "7982/7982 [==============================] - 1s 121us/step - loss: 0.6558 - accuracy: 0.8608 - val_loss: 0.9771 - val_accuracy: 0.8020\n",
            "Epoch 6/20\n",
            "7982/7982 [==============================] - 1s 122us/step - loss: 0.5192 - accuracy: 0.8930 - val_loss: 0.9301 - val_accuracy: 0.8140\n",
            "Epoch 7/20\n",
            "7982/7982 [==============================] - 1s 121us/step - loss: 0.4255 - accuracy: 0.9141 - val_loss: 0.9423 - val_accuracy: 0.8010\n",
            "Epoch 8/20\n",
            "7982/7982 [==============================] - 1s 127us/step - loss: 0.3429 - accuracy: 0.9275 - val_loss: 0.8946 - val_accuracy: 0.8190\n",
            "Epoch 9/20\n",
            "7982/7982 [==============================] - 1s 122us/step - loss: 0.2871 - accuracy: 0.9365 - val_loss: 0.9227 - val_accuracy: 0.8210\n",
            "Epoch 10/20\n",
            "7982/7982 [==============================] - 1s 120us/step - loss: 0.2410 - accuracy: 0.9437 - val_loss: 0.9228 - val_accuracy: 0.8180\n",
            "Epoch 11/20\n",
            "7982/7982 [==============================] - 1s 118us/step - loss: 0.2067 - accuracy: 0.9498 - val_loss: 0.9216 - val_accuracy: 0.8290\n",
            "Epoch 12/20\n",
            "7982/7982 [==============================] - 1s 118us/step - loss: 0.1814 - accuracy: 0.9521 - val_loss: 0.9492 - val_accuracy: 0.8280\n",
            "Epoch 13/20\n",
            "7982/7982 [==============================] - 1s 118us/step - loss: 0.1687 - accuracy: 0.9551 - val_loss: 0.9846 - val_accuracy: 0.8170\n",
            "Epoch 14/20\n",
            "7982/7982 [==============================] - 1s 119us/step - loss: 0.1508 - accuracy: 0.9553 - val_loss: 0.9915 - val_accuracy: 0.8180\n",
            "Epoch 15/20\n",
            "7982/7982 [==============================] - 1s 120us/step - loss: 0.1399 - accuracy: 0.9560 - val_loss: 1.0156 - val_accuracy: 0.8140\n",
            "Epoch 16/20\n",
            "7982/7982 [==============================] - 1s 120us/step - loss: 0.1320 - accuracy: 0.9574 - val_loss: 1.0190 - val_accuracy: 0.8060\n",
            "Epoch 17/20\n",
            "7982/7982 [==============================] - 1s 121us/step - loss: 0.1258 - accuracy: 0.9557 - val_loss: 0.9937 - val_accuracy: 0.8210\n",
            "Epoch 18/20\n",
            "7982/7982 [==============================] - 1s 120us/step - loss: 0.1197 - accuracy: 0.9572 - val_loss: 1.0802 - val_accuracy: 0.8090\n",
            "Epoch 19/20\n",
            "7982/7982 [==============================] - 1s 124us/step - loss: 0.1173 - accuracy: 0.9580 - val_loss: 1.1165 - val_accuracy: 0.8020\n",
            "Epoch 20/20\n",
            "7982/7982 [==============================] - 1s 123us/step - loss: 0.1145 - accuracy: 0.9577 - val_loss: 1.1356 - val_accuracy: 0.8000\n"
          ],
          "name": "stdout"
        }
      ]
    },
    {
      "cell_type": "markdown",
      "metadata": {
        "id": "fU3tepPtxRim",
        "colab_type": "text"
      },
      "source": [
        "And finally, let’s display its loss and accuracy curves\n",
        "\n",
        "Plotting the training and validation loss"
      ]
    },
    {
      "cell_type": "code",
      "metadata": {
        "id": "btDhjNxRxSWv",
        "colab_type": "code",
        "outputId": "74c0e0cf-4bfd-4309-db04-a59519acd9a0",
        "colab": {
          "base_uri": "https://localhost:8080/",
          "height": 312
        }
      },
      "source": [
        "import matplotlib.pyplot as plt\n",
        "print(history.history.keys())\n",
        "loss = history.history['loss']\n",
        "val_loss = history.history['val_loss']\n",
        "epochs = range(1, len(loss) + 1)\n",
        "plt.plot(epochs, loss, 'bo', label='Training loss')\n",
        "plt.plot(epochs, val_loss, 'b', label='Validation loss')\n",
        "plt.title('Training and validation loss')\n",
        "plt.xlabel('Epochs')\n",
        "plt.ylabel('Loss')\n",
        "plt.legend()\n",
        "plt.show()"
      ],
      "execution_count": 0,
      "outputs": [
        {
          "output_type": "stream",
          "text": [
            "dict_keys(['val_loss', 'val_accuracy', 'loss', 'accuracy'])\n"
          ],
          "name": "stdout"
        },
        {
          "output_type": "display_data",
          "data": {
            "image/png": "[encoded data removed]",
            "text/plain": [
              "<Figure size 432x288 with 1 Axes>"
            ]
          },
          "metadata": {
            "tags": [],
            "needs_background": "light"
          }
        }
      ]
    },
    {
      "cell_type": "markdown",
      "metadata": {
        "id": "ri3-6T1MxbUm",
        "colab_type": "text"
      },
      "source": [
        "Plotting the training and validation accuracy"
      ]
    },
    {
      "cell_type": "code",
      "metadata": {
        "id": "F66FCb7-xd3g",
        "colab_type": "code",
        "outputId": "189b3fd6-c2b2-44f7-db88-463747faea40",
        "colab": {
          "base_uri": "https://localhost:8080/",
          "height": 295
        }
      },
      "source": [
        "plt.clf()\n",
        "acc = history.history['accuracy']\n",
        "val_acc = history.history['val_accuracy']\n",
        "plt.plot(epochs, acc, 'bo', label='Training acc')\n",
        "plt.plot(epochs, val_acc, 'b', label='Validation acc')\n",
        "plt.title('Training and validation accuracy')\n",
        "plt.xlabel('Epochs')\n",
        "plt.ylabel('Accuracy')\n",
        "plt.legend()\n",
        "plt.show()"
      ],
      "execution_count": 0,
      "outputs": [
        {
          "output_type": "display_data",
          "data": {
            "image/png": "[encoded data removed]",
            "text/plain": [
              "<Figure size 432x288 with 1 Axes>"
            ]
          },
          "metadata": {
            "tags": [],
            "needs_background": "light"
          }
        }
      ]
    },
    {
      "cell_type": "markdown",
      "metadata": {
        "id": "vQo0B_OUyWzS",
        "colab_type": "text"
      },
      "source": [
        "The network begins to overfit after nine epochs. Let’s train a new network from\n",
        "scratch for nine epochs and then evaluate it on the test set."
      ]
    },
    {
      "cell_type": "code",
      "metadata": {
        "id": "UcxD9UMFyeEo",
        "colab_type": "code",
        "outputId": "4d78bdd6-ff56-4707-c97b-3d8b2eac2e70",
        "colab": {
          "base_uri": "https://localhost:8080/",
          "height": 374
        }
      },
      "source": [
        "model = models.Sequential()\n",
        "model.add(layers.Dense(64, activation='relu', input_shape=(10000,)))\n",
        "model.add(layers.Dense(64, activation='relu'))\n",
        "model.add(layers.Dense(46, activation='softmax'))\n",
        "model.compile(optimizer='rmsprop',\n",
        "loss='categorical_crossentropy',\n",
        "metrics=['accuracy'])\n",
        "model.fit(partial_x_train,\n",
        "          partial_y_train,\n",
        "          epochs=9,\n",
        "          batch_size=512,\n",
        "          validation_data=(x_val, y_val))\n",
        "results = model.evaluate(x_test, one_hot_test_labels)\n",
        "results"
      ],
      "execution_count": 0,
      "outputs": [
        {
          "output_type": "stream",
          "text": [
            "Train on 7982 samples, validate on 1000 samples\n",
            "Epoch 1/9\n",
            "7982/7982 [==============================] - 1s 129us/step - loss: 2.4567 - accuracy: 0.5209 - val_loss: 1.6791 - val_accuracy: 0.6480\n",
            "Epoch 2/9\n",
            "7982/7982 [==============================] - 1s 121us/step - loss: 1.3834 - accuracy: 0.7085 - val_loss: 1.2723 - val_accuracy: 0.7080\n",
            "Epoch 3/9\n",
            "7982/7982 [==============================] - 1s 120us/step - loss: 1.0245 - accuracy: 0.7791 - val_loss: 1.1105 - val_accuracy: 0.7510\n",
            "Epoch 4/9\n",
            "7982/7982 [==============================] - 1s 121us/step - loss: 0.8030 - accuracy: 0.8317 - val_loss: 1.0170 - val_accuracy: 0.7950\n",
            "Epoch 5/9\n",
            "7982/7982 [==============================] - 1s 121us/step - loss: 0.6351 - accuracy: 0.8702 - val_loss: 0.9513 - val_accuracy: 0.7960\n",
            "Epoch 6/9\n",
            "7982/7982 [==============================] - 1s 121us/step - loss: 0.5087 - accuracy: 0.8989 - val_loss: 0.8859 - val_accuracy: 0.8110\n",
            "Epoch 7/9\n",
            "7982/7982 [==============================] - 1s 120us/step - loss: 0.4041 - accuracy: 0.9196 - val_loss: 0.8668 - val_accuracy: 0.8210\n",
            "Epoch 8/9\n",
            "7982/7982 [==============================] - 1s 121us/step - loss: 0.3272 - accuracy: 0.9335 - val_loss: 0.8653 - val_accuracy: 0.8120\n",
            "Epoch 9/9\n",
            "7982/7982 [==============================] - 1s 122us/step - loss: 0.2689 - accuracy: 0.9405 - val_loss: 0.8822 - val_accuracy: 0.8200\n",
            "2246/2246 [==============================] - 0s 79us/step\n"
          ],
          "name": "stdout"
        },
        {
          "output_type": "execute_result",
          "data": {
            "text/plain": [
              "[0.9822282226406244, 0.7845057845115662]"
            ]
          },
          "metadata": {
            "tags": []
          },
          "execution_count": 38
        }
      ]
    },
    {
      "cell_type": "code",
      "metadata": {
        "id": "uZyGSMJDy5kv",
        "colab_type": "code",
        "outputId": "78061c5b-0cb9-4513-ba46-1d28a97f8c70",
        "colab": {
          "base_uri": "https://localhost:8080/",
          "height": 34
        }
      },
      "source": [
        "results"
      ],
      "execution_count": 0,
      "outputs": [
        {
          "output_type": "execute_result",
          "data": {
            "text/plain": [
              "[0.9671777897611433, 0.7898486256599426]"
            ]
          },
          "metadata": {
            "tags": []
          },
          "execution_count": 37
        }
      ]
    },
    {
      "cell_type": "markdown",
      "metadata": {
        "id": "MJtI-2FLyn7v",
        "colab_type": "text"
      },
      "source": [
        "This approach reaches an accuracy of ~80%. With a balanced binary classification\n",
        "problem, the accuracy reached by a purely random classifier would be 50%. But in\n",
        "this case it’s closer to 19%, so the results seem pretty good, at least when compared to\n",
        "a random baseline:"
      ]
    },
    {
      "cell_type": "code",
      "metadata": {
        "id": "pxIh4jUOyo_i",
        "colab_type": "code",
        "outputId": "d6eee899-a503-4690-8f72-3e51fe29f100",
        "colab": {
          "base_uri": "https://localhost:8080/",
          "height": 34
        }
      },
      "source": [
        "import copy\n",
        "test_labels_copy = copy.copy(test_labels)\n",
        "np.random.shuffle(test_labels_copy)\n",
        "hits_array = np.array(test_labels) == np.array(test_labels_copy)\n",
        "float(np.sum(hits_array)) / len(test_labels)"
      ],
      "execution_count": 0,
      "outputs": [
        {
          "output_type": "execute_result",
          "data": {
            "text/plain": [
              "0.18744434550311664"
            ]
          },
          "metadata": {
            "tags": []
          },
          "execution_count": 31
        }
      ]
    },
    {
      "cell_type": "markdown",
      "metadata": {
        "id": "vgPHlU3Azazo",
        "colab_type": "text"
      },
      "source": [
        "**Generating predictions on new data**"
      ]
    },
    {
      "cell_type": "code",
      "metadata": {
        "id": "UJ6vgbCYzcAr",
        "colab_type": "code",
        "colab": {}
      },
      "source": [
        "predictions = model.predict(x_test)"
      ],
      "execution_count": 0,
      "outputs": []
    },
    {
      "cell_type": "markdown",
      "metadata": {
        "id": "8Vb3Iizkzha8",
        "colab_type": "text"
      },
      "source": [
        "Each entry in predictions is a vector of length 46:"
      ]
    },
    {
      "cell_type": "code",
      "metadata": {
        "id": "xiHEu3-MziDG",
        "colab_type": "code",
        "outputId": "517ed956-0ce6-4bff-ee75-a740168ad343",
        "colab": {
          "base_uri": "https://localhost:8080/",
          "height": 34
        }
      },
      "source": [
        "predictions[0].shape"
      ],
      "execution_count": 0,
      "outputs": [
        {
          "output_type": "execute_result",
          "data": {
            "text/plain": [
              "(46,)"
            ]
          },
          "metadata": {
            "tags": []
          },
          "execution_count": 40
        }
      ]
    },
    {
      "cell_type": "markdown",
      "metadata": {
        "id": "4YZxjS4Izkpx",
        "colab_type": "text"
      },
      "source": [
        "The coefficients in this vector sum to 1:"
      ]
    },
    {
      "cell_type": "code",
      "metadata": {
        "id": "FyO3-8D7zmG0",
        "colab_type": "code",
        "outputId": "de053be7-a8a6-42a8-a628-f842715fb133",
        "colab": {
          "base_uri": "https://localhost:8080/",
          "height": 34
        }
      },
      "source": [
        "np.sum(predictions[0])"
      ],
      "execution_count": 0,
      "outputs": [
        {
          "output_type": "execute_result",
          "data": {
            "text/plain": [
              "1.0"
            ]
          },
          "metadata": {
            "tags": []
          },
          "execution_count": 41
        }
      ]
    },
    {
      "cell_type": "markdown",
      "metadata": {
        "id": "DRlFi4a8zuw5",
        "colab_type": "text"
      },
      "source": [
        "The index of largest entry is the predicted class—the class with the highest probability:"
      ]
    },
    {
      "cell_type": "code",
      "metadata": {
        "id": "ydNG4NMazw1b",
        "colab_type": "code",
        "outputId": "3814a3b4-03f4-4563-e0b6-cf098562f5bb",
        "colab": {
          "base_uri": "https://localhost:8080/",
          "height": 34
        }
      },
      "source": [
        "np.argmax(predictions[0])"
      ],
      "execution_count": 0,
      "outputs": [
        {
          "output_type": "execute_result",
          "data": {
            "text/plain": [
              "3"
            ]
          },
          "metadata": {
            "tags": []
          },
          "execution_count": 45
        }
      ]
    },
    {
      "cell_type": "markdown",
      "metadata": {
        "id": "3dpRiU4Tz_D7",
        "colab_type": "text"
      },
      "source": [
        "**A different way to handle the labels and the loss**\n",
        "\n",
        "We mentioned earlier that another way to encode the labels would be to cast them as\n",
        "an integer tensor, like this:"
      ]
    },
    {
      "cell_type": "code",
      "metadata": {
        "id": "FX5ZbQGz0AqI",
        "colab_type": "code",
        "colab": {}
      },
      "source": [
        "y_train = np.array(train_labels)\n",
        "y_test = np.array(test_labels)"
      ],
      "execution_count": 0,
      "outputs": []
    },
    {
      "cell_type": "markdown",
      "metadata": {
        "id": "HbgkZOiU0HOr",
        "colab_type": "text"
      },
      "source": [
        "The only thing this approach would change is the choice of the loss function. The loss\n",
        "function used in listing 3.21, categorical_crossentropy, expects the labels to follow\n",
        "a categorical encoding. With integer labels, you should use sparse_categorical_\n",
        "crossentropy:"
      ]
    },
    {
      "cell_type": "code",
      "metadata": {
        "id": "yOXKhG9r0IVp",
        "colab_type": "code",
        "colab": {}
      },
      "source": [
        "model.compile(optimizer='rmsprop',\n",
        "              loss='sparse_categorical_crossentropy',\n",
        "              metrics=['acc'])"
      ],
      "execution_count": 0,
      "outputs": []
    },
    {
      "cell_type": "markdown",
      "metadata": {
        "id": "XKqhuTtR0POY",
        "colab_type": "text"
      },
      "source": [
        "**The importance of having sufficiently large intermediate layers**\n",
        "\n",
        "We mentioned earlier that because the final outputs are 46-dimensional, you should\n",
        "avoid intermediate layers with many fewer than 46 hidden units. Now let’s see what\n",
        "happens when you introduce an information bottleneck by having intermediate layers\n",
        "that are significantly less than 46-dimensional: for example, 4-dimensional."
      ]
    },
    {
      "cell_type": "code",
      "metadata": {
        "id": "MOsgCdGI0Xmw",
        "colab_type": "code",
        "outputId": "ff2e2b7d-d90b-49bd-ef71-ee3314e918bc",
        "colab": {
          "base_uri": "https://localhost:8080/",
          "height": 748
        }
      },
      "source": [
        "model = models.Sequential()\n",
        "model.add(layers.Dense(128, activation='relu', input_shape=(10000,)))\n",
        "model.add(layers.Dense(128, activation='relu'))\n",
        "model.add(layers.Dense(46, activation='softmax'))\n",
        "model.compile(optimizer='rmsprop',\n",
        "              loss='categorical_crossentropy',\n",
        "              metrics=['accuracy'])\n",
        "model.fit(partial_x_train,\n",
        "              partial_y_train,\n",
        "              epochs=20,\n",
        "              batch_size=128,\n",
        "              validation_data=(x_val, y_val))\n",
        "results = model.evaluate(x_test, one_hot_test_labels)\n",
        "results"
      ],
      "execution_count": 0,
      "outputs": [
        {
          "output_type": "stream",
          "text": [
            "Train on 7982 samples, validate on 1000 samples\n",
            "Epoch 1/20\n",
            "7982/7982 [==============================] - 2s 240us/step - loss: 1.5819 - accuracy: 0.6649 - val_loss: 1.0988 - val_accuracy: 0.7460\n",
            "Epoch 2/20\n",
            "7982/7982 [==============================] - 2s 234us/step - loss: 0.7835 - accuracy: 0.8242 - val_loss: 0.9628 - val_accuracy: 0.7890\n",
            "Epoch 3/20\n",
            "7982/7982 [==============================] - 2s 231us/step - loss: 0.4747 - accuracy: 0.8980 - val_loss: 0.8931 - val_accuracy: 0.8150\n",
            "Epoch 4/20\n",
            "7982/7982 [==============================] - 2s 238us/step - loss: 0.3145 - accuracy: 0.9305 - val_loss: 0.8786 - val_accuracy: 0.8320\n",
            "Epoch 5/20\n",
            "7982/7982 [==============================] - 2s 232us/step - loss: 0.2358 - accuracy: 0.9449 - val_loss: 0.9005 - val_accuracy: 0.8220\n",
            "Epoch 6/20\n",
            "7982/7982 [==============================] - 2s 228us/step - loss: 0.1893 - accuracy: 0.9499 - val_loss: 0.9243 - val_accuracy: 0.8160\n",
            "Epoch 7/20\n",
            "7982/7982 [==============================] - 2s 228us/step - loss: 0.1688 - accuracy: 0.9519 - val_loss: 0.9639 - val_accuracy: 0.8150\n",
            "Epoch 8/20\n",
            "7982/7982 [==============================] - 2s 232us/step - loss: 0.1521 - accuracy: 0.9535 - val_loss: 1.0142 - val_accuracy: 0.8100\n",
            "Epoch 9/20\n",
            "7982/7982 [==============================] - 2s 230us/step - loss: 0.1427 - accuracy: 0.9538 - val_loss: 1.0512 - val_accuracy: 0.8120\n",
            "Epoch 10/20\n",
            "7982/7982 [==============================] - 2s 230us/step - loss: 0.1316 - accuracy: 0.9563 - val_loss: 1.0718 - val_accuracy: 0.8120\n",
            "Epoch 11/20\n",
            "7982/7982 [==============================] - 2s 233us/step - loss: 0.1245 - accuracy: 0.9535 - val_loss: 1.0904 - val_accuracy: 0.8060\n",
            "Epoch 12/20\n",
            "7982/7982 [==============================] - 2s 236us/step - loss: 0.1163 - accuracy: 0.9567 - val_loss: 1.1881 - val_accuracy: 0.7980\n",
            "Epoch 13/20\n",
            "7982/7982 [==============================] - 2s 235us/step - loss: 0.1105 - accuracy: 0.9545 - val_loss: 1.2338 - val_accuracy: 0.7950\n",
            "Epoch 14/20\n",
            "7982/7982 [==============================] - 2s 233us/step - loss: 0.1042 - accuracy: 0.9584 - val_loss: 1.2620 - val_accuracy: 0.7910\n",
            "Epoch 15/20\n",
            "7982/7982 [==============================] - 2s 228us/step - loss: 0.1002 - accuracy: 0.9562 - val_loss: 1.2804 - val_accuracy: 0.7870\n",
            "Epoch 16/20\n",
            "7982/7982 [==============================] - 2s 236us/step - loss: 0.0967 - accuracy: 0.9568 - val_loss: 1.3493 - val_accuracy: 0.8000\n",
            "Epoch 17/20\n",
            "7982/7982 [==============================] - 2s 236us/step - loss: 0.0916 - accuracy: 0.9582 - val_loss: 1.4283 - val_accuracy: 0.8000\n",
            "Epoch 18/20\n",
            "7982/7982 [==============================] - 2s 234us/step - loss: 0.0911 - accuracy: 0.9553 - val_loss: 1.4858 - val_accuracy: 0.7940\n",
            "Epoch 19/20\n",
            "7982/7982 [==============================] - 2s 237us/step - loss: 0.0859 - accuracy: 0.9578 - val_loss: 1.5360 - val_accuracy: 0.7920\n",
            "Epoch 20/20\n",
            "7982/7982 [==============================] - 2s 234us/step - loss: 0.0857 - accuracy: 0.9578 - val_loss: 1.7006 - val_accuracy: 0.7810\n",
            "2246/2246 [==============================] - 0s 104us/step\n"
          ],
          "name": "stdout"
        },
        {
          "output_type": "execute_result",
          "data": {
            "text/plain": [
              "[2.03955308773214, 0.7729296684265137]"
            ]
          },
          "metadata": {
            "tags": []
          },
          "execution_count": 52
        }
      ]
    },
    {
      "cell_type": "markdown",
      "metadata": {
        "id": "1idPrOeD3CMb",
        "colab_type": "text"
      },
      "source": [
        "The network now peaks at ~71% validation accuracy, an 8% absolute drop. This drop\n",
        "is mostly due to the fact that you’re trying to compress a lot of information (enough\n",
        "information to recover the separation hyperplanes of 46 classes) into an intermediate\n",
        "space that is too low-dimensional. The network is able to cram most of the necessary\n",
        "information into these eight-dimensional representations, but not all of it."
      ]
    },
    {
      "cell_type": "code",
      "metadata": {
        "id": "stuRhWih3DdQ",
        "colab_type": "code",
        "colab": {}
      },
      "source": [
        ""
      ],
      "execution_count": 0,
      "outputs": []
    }
  ]
}