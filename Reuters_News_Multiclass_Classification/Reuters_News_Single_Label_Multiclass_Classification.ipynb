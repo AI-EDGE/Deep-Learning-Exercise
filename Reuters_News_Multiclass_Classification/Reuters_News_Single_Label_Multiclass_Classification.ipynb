{
  "nbformat": 4,
  "nbformat_minor": 0,
  "metadata": {
    "colab": {
      "name": "Reuters_News_Single_Label_Multiclass_Classification.ipynb",
      "provenance": [],
      "authorship_tag": "ABX9TyNtXeR9psPWlkCgAqPQXWMV",
      "include_colab_link": true
    },
    "kernelspec": {
      "name": "python3",
      "display_name": "Python 3"
    }
  },
  "cells": [
    {
      "cell_type": "markdown",
      "metadata": {
        "id": "view-in-github",
        "colab_type": "text"
      },
      "source": [
        "<a href=\"https://colab.research.google.com/github/sebinefrancis/Deep-Learning-Exercise/blob/Reuters_News_Multiclass_Classification/Reuters_News_Multiclass_Classification/Reuters_News_Single_Label_Multiclass_Classification.ipynb\" target=\"_parent\"><img src=\"https://colab.research.google.com/assets/colab-badge.svg\" alt=\"Open In Colab\"/></a>"
      ]
    },
    {
      "cell_type": "code",
      "metadata": {
        "id": "LdHjMUI7i78L",
        "colab_type": "code",
        "outputId": "7741ae73-cb63-4104-e41a-459a20c8dd57",
        "colab": {
          "base_uri": "https://localhost:8080/",
          "height": 34
        }
      },
      "source": [
        "import numpy as np\n",
        "predictions = [0.5,0.6,0.6,0.1]\n",
        "np.argmax(predictions)"
      ],
      "execution_count": 0,
      "outputs": [
        {
          "output_type": "execute_result",
          "data": {
            "text/plain": [
              "1"
            ]
          },
          "metadata": {
            "tags": []
          },
          "execution_count": 5
        }
      ]
    }
  ]
}